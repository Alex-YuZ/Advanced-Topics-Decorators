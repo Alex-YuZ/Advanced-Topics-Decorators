{
 "cells": [
  {
   "cell_type": "markdown",
   "metadata": {},
   "source": [
    "## 1. First-Class Functions"
   ]
  },
  {
   "cell_type": "markdown",
   "metadata": {},
   "source": [
    "> A programming language is said to have first-calss functions if it treats functions as first-class citizens.\n",
    "\n",
    "> **First-Class Citizen (Programming):** A first-class citizen (sometimes called first-calss objects) in a programming language is an entity which supoorts all the operations generally available to other entities. These operations typically include being passed as an argument, returned from a function, and assigned to a variable."
   ]
  },
  {
   "cell_type": "code",
   "execution_count": 1,
   "metadata": {},
   "outputs": [],
   "source": [
    "import os\n",
    "os.chdir(\"projects_on_GitHub/POC/python_basics_and_intermediates/Function_and_decorators\")"
   ]
  },
  {
   "cell_type": "markdown",
   "metadata": {},
   "source": [
    "### Example 1:"
   ]
  },
  {
   "cell_type": "code",
   "execution_count": 2,
   "metadata": {},
   "outputs": [
    {
     "name": "stdout",
     "output_type": "stream",
     "text": [
      "<function square at 0x7fcc68c9b320>\n",
      "25\n",
      "<function square at 0x7fcc68c9b320>\n",
      "36\n"
     ]
    }
   ],
   "source": [
    "def square(x):\n",
    "    return x * x\n",
    "\n",
    "f = square(5)\n",
    "\n",
    "print(square)\n",
    "print(f)\n",
    "\n",
    "\n",
    "g = square\n",
    "\n",
    "print(g)\n",
    "print(g(6))"
   ]
  },
  {
   "cell_type": "markdown",
   "metadata": {},
   "source": [
    "### Example 2: Construct a `map()` function from scratch"
   ]
  },
  {
   "cell_type": "code",
   "execution_count": 3,
   "metadata": {},
   "outputs": [
    {
     "name": "stdout",
     "output_type": "stream",
     "text": [
      "[1, 4, 9, 16, 25]\n",
      "[1, 8, 27, 64, 125]\n"
     ]
    }
   ],
   "source": [
    "def square(x):\n",
    "    \n",
    "    return x * x\n",
    "\n",
    "def cube(x):\n",
    "    \n",
    "    return x ** 3\n",
    "\n",
    "def my_map(func, arg_list):\n",
    "    \n",
    "    result = []\n",
    "    \n",
    "    for i in arg_list:\n",
    "        result.append(func(i))\n",
    "        \n",
    "    return result\n",
    "\n",
    "squares = my_map(square, [1, 2, 3, 4, 5])\n",
    "cubes = my_map(cube, [1, 2, 3, 4, 5])\n",
    "\n",
    "print(squares)\n",
    "print(cubes)\n",
    "    "
   ]
  },
  {
   "cell_type": "code",
   "execution_count": 4,
   "metadata": {},
   "outputs": [
    {
     "data": {
      "text/plain": [
       "[1, 4, 9, 16, 25]"
      ]
     },
     "execution_count": 4,
     "metadata": {},
     "output_type": "execute_result"
    }
   ],
   "source": [
    "# Built-in `map()` function\n",
    "list(map(square, [1, 2, 3, 4, 5]))"
   ]
  },
  {
   "cell_type": "code",
   "execution_count": 5,
   "metadata": {},
   "outputs": [
    {
     "name": "stdout",
     "output_type": "stream",
     "text": [
      "Log: Hello World!\n"
     ]
    }
   ],
   "source": [
    "def logger(msg):\n",
    "    \n",
    "    def log_message():\n",
    "        print('Log:', msg)\n",
    "        \n",
    "    return log_message\n",
    "\n",
    "log_hi = logger('Hello World!')\n",
    "\n",
    "log_hi()"
   ]
  },
  {
   "cell_type": "code",
   "execution_count": 6,
   "metadata": {},
   "outputs": [
    {
     "name": "stdout",
     "output_type": "stream",
     "text": [
      "Log: Hi\n"
     ]
    }
   ],
   "source": [
    "logger('Hi')()"
   ]
  },
  {
   "cell_type": "markdown",
   "metadata": {},
   "source": [
    "### Example 3: Print html tag"
   ]
  },
  {
   "cell_type": "code",
   "execution_count": 7,
   "metadata": {},
   "outputs": [
    {
     "name": "stdout",
     "output_type": "stream",
     "text": [
      "<h1>Test Headline!<h1>\n",
      "\n",
      "<h2>Another Headline!<h2>\n",
      "\n",
      "<p>Test Paragraph!<p>\n",
      "\n"
     ]
    }
   ],
   "source": [
    "def html_tag(tag):\n",
    "    \n",
    "    def wrap_text(msg):\n",
    "        print(\"<{0}>{1}<{0}>\".format(tag, msg))\n",
    "        \n",
    "    return wrap_text\n",
    "\n",
    "print_h1 = html_tag('h1')\n",
    "print_h1('Test Headline!')\n",
    "print()\n",
    "print_h2 = html_tag('h2')\n",
    "print_h2('Another Headline!')\n",
    "print()\n",
    "print_p = html_tag('p')\n",
    "print_p('Test Paragraph!')\n",
    "print()\n"
   ]
  },
  {
   "cell_type": "markdown",
   "metadata": {},
   "source": [
    "## 2. Enclosure"
   ]
  },
  {
   "cell_type": "markdown",
   "metadata": {},
   "source": [
    "### Example 1:"
   ]
  },
  {
   "cell_type": "code",
   "execution_count": 8,
   "metadata": {},
   "outputs": [],
   "source": [
    "def outer_func():\n",
    "    msg = 'Hello World!'\n",
    "    \n",
    "    def inner_func():\n",
    "        print(msg)\n",
    "        \n",
    "    return inner_func()"
   ]
  },
  {
   "cell_type": "code",
   "execution_count": 9,
   "metadata": {},
   "outputs": [
    {
     "name": "stdout",
     "output_type": "stream",
     "text": [
      "Hello World!\n"
     ]
    }
   ],
   "source": [
    "outer_func()"
   ]
  },
  {
   "cell_type": "code",
   "execution_count": 10,
   "metadata": {},
   "outputs": [],
   "source": [
    "def outer_func():\n",
    "    msg = 'Hello World!'\n",
    "    \n",
    "    def inner_func():\n",
    "        print(msg)\n",
    "        \n",
    "    return inner_func"
   ]
  },
  {
   "cell_type": "code",
   "execution_count": 11,
   "metadata": {},
   "outputs": [
    {
     "data": {
      "text/plain": [
       "<function __main__.outer_func.<locals>.inner_func()>"
      ]
     },
     "execution_count": 11,
     "metadata": {},
     "output_type": "execute_result"
    }
   ],
   "source": [
    "# the inner function would not be called (invoked).\n",
    "outer_func()"
   ]
  },
  {
   "cell_type": "code",
   "execution_count": 12,
   "metadata": {},
   "outputs": [
    {
     "name": "stdout",
     "output_type": "stream",
     "text": [
      "Hello World!\n"
     ]
    }
   ],
   "source": [
    "outer_func()()"
   ]
  },
  {
   "cell_type": "code",
   "execution_count": 13,
   "metadata": {},
   "outputs": [
    {
     "name": "stdout",
     "output_type": "stream",
     "text": [
      "Hello World!\n"
     ]
    }
   ],
   "source": [
    "my_func = outer_func()\n",
    "my_func()"
   ]
  },
  {
   "cell_type": "code",
   "execution_count": 14,
   "metadata": {},
   "outputs": [
    {
     "name": "stdout",
     "output_type": "stream",
     "text": [
      "<function outer_func.<locals>.inner_func at 0x7fcc68cbf9e0>\n",
      "inner_func\n"
     ]
    }
   ],
   "source": [
    "print(my_func)\n",
    "print(my_func.__name__)"
   ]
  },
  {
   "cell_type": "markdown",
   "metadata": {},
   "source": [
    "### Example 3:"
   ]
  },
  {
   "cell_type": "code",
   "execution_count": 15,
   "metadata": {},
   "outputs": [],
   "source": [
    "def outer_func(msg):\n",
    "    message = msg\n",
    "    \n",
    "    def inner_func():\n",
    "        print(msg)\n",
    "        \n",
    "    return inner_func"
   ]
  },
  {
   "cell_type": "code",
   "execution_count": 16,
   "metadata": {},
   "outputs": [
    {
     "name": "stdout",
     "output_type": "stream",
     "text": [
      "Hello world!\n"
     ]
    }
   ],
   "source": [
    "say_hi = outer_func('Hello world!')\n",
    "say_hi()"
   ]
  },
  {
   "cell_type": "code",
   "execution_count": 17,
   "metadata": {},
   "outputs": [
    {
     "name": "stdout",
     "output_type": "stream",
     "text": [
      "Adios!\n"
     ]
    }
   ],
   "source": [
    "say_goodbye = outer_func('Adios!')\n",
    "say_goodbye()"
   ]
  },
  {
   "cell_type": "markdown",
   "metadata": {},
   "source": [
    "### Example 4: "
   ]
  },
  {
   "cell_type": "code",
   "execution_count": 18,
   "metadata": {},
   "outputs": [
    {
     "data": {
      "text/plain": [
       "'/Users/alejandrosanz/Downloads/projects_on_GitHub/POC/python_basics_and_intermediates/Function_and_decorators'"
      ]
     },
     "execution_count": 18,
     "metadata": {},
     "output_type": "execute_result"
    }
   ],
   "source": [
    "os.getcwd()"
   ]
  },
  {
   "cell_type": "code",
   "execution_count": 19,
   "metadata": {},
   "outputs": [
    {
     "data": {
      "text/plain": [
       "'/Users/alejandrosanz/Downloads/projects_on_GitHub/POC/python_basics_and_intermediates/Function_and_decorators/example.log'"
      ]
     },
     "execution_count": 19,
     "metadata": {},
     "output_type": "execute_result"
    }
   ],
   "source": [
    "os.path.join(os.getcwd(), 'example.log')"
   ]
  },
  {
   "cell_type": "code",
   "execution_count": 20,
   "metadata": {},
   "outputs": [],
   "source": [
    "import logging\n",
    "logging.basicConfig(filename=os.path.join(os.getcwd(), 'example.log'), level=logging.INFO)\n",
    "\n",
    "def logger(func):\n",
    "    \n",
    "    def log_func(*args):\n",
    "        logging.info(\"Running '{}' with arguments {}\".format(func.__name__, args))\n",
    "        print(func(*args))\n",
    "        \n",
    "    return log_func\n",
    "\n",
    "def add(x, y):\n",
    "    return x + y\n",
    "\n",
    "def sub(x, y):\n",
    "    return x - y"
   ]
  },
  {
   "cell_type": "code",
   "execution_count": 21,
   "metadata": {},
   "outputs": [
    {
     "name": "stdout",
     "output_type": "stream",
     "text": [
      "7\n",
      "-1\n",
      "11\n",
      "1\n"
     ]
    }
   ],
   "source": [
    "add_logger = logger(add)\n",
    "sub_logger = logger(sub)\n",
    "\n",
    "add_logger(3, 4)\n",
    "sub_logger(3, 4)\n",
    "\n",
    "add_logger(5, 6)\n",
    "sub_logger(7, 6)"
   ]
  },
  {
   "cell_type": "code",
   "execution_count": null,
   "metadata": {},
   "outputs": [],
   "source": []
  },
  {
   "cell_type": "markdown",
   "metadata": {},
   "source": [
    "## 3. Decorators"
   ]
  },
  {
   "cell_type": "markdown",
   "metadata": {},
   "source": [
    "### Example 1: A Simple Decorator"
   ]
  },
  {
   "cell_type": "code",
   "execution_count": 22,
   "metadata": {},
   "outputs": [],
   "source": [
    "def outer_func(msg):\n",
    "    \n",
    "    def inner_func():\n",
    "        print(msg)\n",
    "        \n",
    "    return inner_func"
   ]
  },
  {
   "cell_type": "code",
   "execution_count": 23,
   "metadata": {},
   "outputs": [
    {
     "name": "stdout",
     "output_type": "stream",
     "text": [
      "hello\n"
     ]
    }
   ],
   "source": [
    "hi_func = outer_func('hello')\n",
    "hi_func()"
   ]
  },
  {
   "cell_type": "code",
   "execution_count": 24,
   "metadata": {},
   "outputs": [
    {
     "name": "stdout",
     "output_type": "stream",
     "text": [
      "Bye\n"
     ]
    }
   ],
   "source": [
    "bye_func = outer_func('Bye')\n",
    "\n",
    "bye_func()"
   ]
  },
  {
   "cell_type": "markdown",
   "metadata": {},
   "source": [
    "### A general architecture for a decorator"
   ]
  },
  {
   "cell_type": "markdown",
   "metadata": {},
   "source": [
    "**1. Interlude**"
   ]
  },
  {
   "cell_type": "code",
   "execution_count": 25,
   "metadata": {},
   "outputs": [],
   "source": [
    "def decorator_func(msg):\n",
    "    \n",
    "    def wrapper_func():\n",
    "        print(msg)\n",
    "    \n",
    "    \n",
    "    return wrapper_func"
   ]
  },
  {
   "cell_type": "code",
   "execution_count": 26,
   "metadata": {},
   "outputs": [
    {
     "name": "stdout",
     "output_type": "stream",
     "text": [
      "Hello World!\n"
     ]
    }
   ],
   "source": [
    "hi = decorator_func('Hello World!')\n",
    "hi()"
   ]
  },
  {
   "cell_type": "markdown",
   "metadata": {},
   "source": [
    "**2. Build a decorator**"
   ]
  },
  {
   "cell_type": "code",
   "execution_count": 27,
   "metadata": {},
   "outputs": [],
   "source": [
    "def decorator_func(original_func):\n",
    "    \n",
    "    def wrapper_func():\n",
    "        \n",
    "        return original_func()\n",
    "            \n",
    "    return wrapper_func"
   ]
  },
  {
   "cell_type": "code",
   "execution_count": 28,
   "metadata": {},
   "outputs": [],
   "source": [
    "def display():\n",
    "    print(\"Display function ran!\")\n",
    "    "
   ]
  },
  {
   "cell_type": "code",
   "execution_count": 29,
   "metadata": {},
   "outputs": [
    {
     "name": "stdout",
     "output_type": "stream",
     "text": [
      "Display function ran!\n"
     ]
    }
   ],
   "source": [
    "decorated_display = decorator_func(display)\n",
    "decorated_display()"
   ]
  },
  {
   "cell_type": "markdown",
   "metadata": {},
   "source": [
    "**3. Use `@` to decorate a function**"
   ]
  },
  {
   "cell_type": "code",
   "execution_count": 30,
   "metadata": {},
   "outputs": [],
   "source": [
    "def decorator_func(original_func):\n",
    "    \n",
    "    def wrapper_func():\n",
    "        print(\"Wrapper executed this before {}.\".format(original_func.__name__))\n",
    "        return original_func()\n",
    "            \n",
    "    return wrapper_func"
   ]
  },
  {
   "cell_type": "code",
   "execution_count": 31,
   "metadata": {},
   "outputs": [
    {
     "name": "stdout",
     "output_type": "stream",
     "text": [
      "Wrapper executed this before display.\n",
      "Display function ran!\n"
     ]
    }
   ],
   "source": [
    "display = decorator_func(display)\n",
    "display()"
   ]
  },
  {
   "cell_type": "markdown",
   "metadata": {},
   "source": [
    "___PAY ATTENTION:___ **`display = decorator_func(display)` is the same as `@decorator_func`**"
   ]
  },
  {
   "cell_type": "code",
   "execution_count": 32,
   "metadata": {},
   "outputs": [
    {
     "name": "stdout",
     "output_type": "stream",
     "text": [
      "Wrapper executed this before display.\n",
      "Display function ran!\n"
     ]
    }
   ],
   "source": [
    "@decorator_func\n",
    "def display():\n",
    "    print(\"Display function ran!\")\n",
    "    \n",
    "display()"
   ]
  },
  {
   "cell_type": "markdown",
   "metadata": {},
   "source": [
    "**4. Passing arguments into decorator**"
   ]
  },
  {
   "cell_type": "code",
   "execution_count": 33,
   "metadata": {},
   "outputs": [],
   "source": [
    "def decorator_func(original_func):\n",
    "    \n",
    "    def wrapper_func(*args, **kwargs):\n",
    "        print(\"Wrapper executed this before {}.\".format(original_func.__name__))\n",
    "        return original_func(*args, **kwargs)\n",
    "            \n",
    "    return wrapper_func"
   ]
  },
  {
   "cell_type": "code",
   "execution_count": 34,
   "metadata": {},
   "outputs": [],
   "source": [
    "def display_info(name, age):\n",
    "    print(\"Display_info ran with arguments ({}, {})\".format(name, age))"
   ]
  },
  {
   "cell_type": "code",
   "execution_count": 35,
   "metadata": {},
   "outputs": [
    {
     "name": "stdout",
     "output_type": "stream",
     "text": [
      "Display_info ran with arguments (alex, 32)\n"
     ]
    }
   ],
   "source": [
    "display_info('alex', 32)"
   ]
  },
  {
   "cell_type": "code",
   "execution_count": 36,
   "metadata": {},
   "outputs": [
    {
     "name": "stdout",
     "output_type": "stream",
     "text": [
      "Wrapper executed this before display_info.\n",
      "Display_info ran with arguments (Alex, 32)\n"
     ]
    }
   ],
   "source": [
    "@decorator_func\n",
    "def display_info(name, age):\n",
    "    print(\"Display_info ran with arguments ({}, {})\".format(name, age))\n",
    "    \n",
    "display_info('Alex', 32)"
   ]
  },
  {
   "cell_type": "markdown",
   "metadata": {},
   "source": [
    "### Example 2: A Class Decorator"
   ]
  },
  {
   "cell_type": "code",
   "execution_count": 37,
   "metadata": {},
   "outputs": [],
   "source": [
    "class decorator_class():\n",
    "    \n",
    "    def __init__(self, original_func):\n",
    "        self.original_func = original_func\n",
    "        \n",
    "    def __call__(self, *args, **kwargs):\n",
    "        print(\"Call method executed this before {}.\".format(self.original_func.__name__))\n",
    "        return self.original_func(*args, **kwargs)\n",
    "            \n",
    "        "
   ]
  },
  {
   "cell_type": "code",
   "execution_count": 38,
   "metadata": {},
   "outputs": [
    {
     "name": "stdout",
     "output_type": "stream",
     "text": [
      "Call method executed this before display_info.\n",
      "Display_info ran with arguments (John, 33)\n"
     ]
    }
   ],
   "source": [
    "@decorator_class\n",
    "def display_info(name, age):\n",
    "    print(\"Display_info ran with arguments ({}, {})\".format(name, age))\n",
    "    \n",
    "display_info('John', 33)"
   ]
  },
  {
   "cell_type": "code",
   "execution_count": 39,
   "metadata": {},
   "outputs": [
    {
     "name": "stdout",
     "output_type": "stream",
     "text": [
      "Call method executed this before display.\n",
      "Display function ran!\n"
     ]
    }
   ],
   "source": [
    "@decorator_class\n",
    "def display():\n",
    "    print(\"Display function ran!\")\n",
    "    \n",
    "display()"
   ]
  },
  {
   "cell_type": "markdown",
   "metadata": {},
   "source": [
    "### Example 3: Function decorator"
   ]
  },
  {
   "cell_type": "markdown",
   "metadata": {},
   "source": [
    "<font color='red'>PAY ATTENTION: The log file will will be recorded in the `example.log` file instead of `display_info.log`.</font> Maybe this is because of some specialties for **logging** package. (Needs further study)"
   ]
  },
  {
   "cell_type": "code",
   "execution_count": 40,
   "metadata": {},
   "outputs": [],
   "source": [
    "import logging\n",
    "\n",
    "def my_logger(original_func):\n",
    "\n",
    "    logging.basicConfig(filename='{}.log'.format(os.path.join(os.getcwd(), original_func.__name__)), level=logging.INFO)\n",
    "    \n",
    "    def wrapper(*args, **kwargs):\n",
    "        \n",
    "        logging.info(\"Run with args: {} and kwargs: {}\".format(args, kwargs))\n",
    "        \n",
    "        return original_func(*args, **kwargs)\n",
    "    \n",
    "    return wrapper"
   ]
  },
  {
   "cell_type": "code",
   "execution_count": 41,
   "metadata": {},
   "outputs": [
    {
     "name": "stdout",
     "output_type": "stream",
     "text": [
      "Display_info ran with arguments (John, 33)\n"
     ]
    }
   ],
   "source": [
    "@my_logger\n",
    "def display_info(name, age):\n",
    "    print(\"Display_info ran with arguments ({}, {})\".format(name, age))\n",
    "    \n",
    "display_info('John', 33)"
   ]
  },
  {
   "cell_type": "code",
   "execution_count": null,
   "metadata": {},
   "outputs": [],
   "source": []
  }
 ],
 "metadata": {
  "kernelspec": {
   "display_name": "Python 3",
   "language": "python",
   "name": "python3"
  },
  "language_info": {
   "codemirror_mode": {
    "name": "ipython",
    "version": 3
   },
   "file_extension": ".py",
   "mimetype": "text/x-python",
   "name": "python",
   "nbconvert_exporter": "python",
   "pygments_lexer": "ipython3",
   "version": "3.7.9"
  }
 },
 "nbformat": 4,
 "nbformat_minor": 4
}
